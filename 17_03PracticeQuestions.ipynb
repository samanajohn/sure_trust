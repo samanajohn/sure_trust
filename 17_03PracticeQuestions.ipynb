{
 "cells": [
  {
   "cell_type": "code",
   "execution_count": null,
   "metadata": {},
   "outputs": [
    {
     "name": "stdout",
     "output_type": "stream",
     "text": [
      "Book 'Python Programming' added to the catalog.\n",
      "Book 'Data Science Handbook' added to the catalog.\n",
      "Book 'Python Programming' has been borrowed.\n",
      "Error: Book 'Python Programming' is not available in the library.\n",
      "Available books:\n",
      "- Data Science Handbook\n"
     ]
    }
   ],
   "source": [
    "class BookNotAvailableException(Exception):\n",
    "    pass\n",
    "\n",
    "class Book:\n",
    "    def __init__(self, title, author, available=True):\n",
    "        self.title = title\n",
    "        self.author = author\n",
    "        self.available = available\n",
    "\n",
    "class Library:\n",
    "    def __init__(self):\n",
    "        self.books = []\n",
    "\n",
    "    def add_book(self, book):\n",
    "        self.books.append(book)\n",
    "        print(f\"Book '{book.title}' added to the catalog.\")\n",
    "\n",
    "    def borrow_book(self, title):\n",
    "        for book in self.books:\n",
    "            if book.title == title:\n",
    "                if book.available:\n",
    "                    book.available = False\n",
    "                    print(f\"Book '{title}' has been borrowed.\")\n",
    "                    return\n",
    "                else:\n",
    "                    raise BookNotAvailableException(f\"Error: Book '{title}' is not available in the library.\")\n",
    "        print(f\"Error: Book '{title}' not found in the catalog.\")\n",
    "\n",
    "    def return_book(self, title):\n",
    "        for book in self.books:\n",
    "            if book.title == title:\n",
    "                book.available = True\n",
    "                print(f\"Book '{title}' has been returned.\")\n",
    "                return\n",
    "        print(f\"Error: Book '{title}' not found in the catalog.\")\n",
    "\n",
    "    def display_books(self):\n",
    "        available_books = [book.title for book in self.books if book.available]\n",
    "        print(\"Available books:\")\n",
    "        for book in available_books:\n",
    "            print(f\"- {book}\")\n",
    "\n",
    "library = Library()\n",
    "library.add_book(Book(\"Python Programming\", \"John Doe\"))\n",
    "library.add_book(Book(\"Data Science Handbook\", \"Jane Smith\"))\n",
    "\n",
    "try:\n",
    "    library.borrow_book(\"Python Programming\") \n",
    "    library.borrow_book(\"Python Programming\") \n",
    "except BookNotAvailableException as e:\n",
    "    print(e)\n",
    "\n",
    "library.display_books()\n"
   ]
  },
  {
   "cell_type": "code",
   "execution_count": 2,
   "metadata": {},
   "outputs": [
    {
     "name": "stdout",
     "output_type": "stream",
     "text": [
      "Error logged successfully.\n",
      "UnderageError: Age 2 is below the permitted limit.\n"
     ]
    }
   ],
   "source": [
    "class UnderageError(Exception):\n",
    "    \"\"\"Custom exception for underage users.\"\"\"\n",
    "    pass\n",
    "\n",
    "def verify_age(age):\n",
    "    if age < 18:\n",
    "        error_message = f\"UnderageError: Age {age} is below the permitted limit.\"\n",
    "        log_error(error_message)\n",
    "        raise UnderageError(error_message)\n",
    "    print(f\"Age verification successful for age {age}.\")\n",
    "\n",
    "def log_error(error_message):\n",
    "    try:\n",
    "        with open(\"error.log\", \"a\") as file:\n",
    "            file.write(error_message + \"\\n\")\n",
    "        print(\"Error logged successfully.\")\n",
    "    except IOError as e:\n",
    "        print(f\"IOError: {e}\")\n",
    "\n",
    "try:\n",
    "    verify_age(2)  \n",
    "except UnderageError as ue:\n",
    "    print(ue)\n"
   ]
  },
  {
   "cell_type": "code",
   "execution_count": 3,
   "metadata": {},
   "outputs": [
    {
     "name": "stdout",
     "output_type": "stream",
     "text": [
      "Average Marks: 84.33333333333333\n",
      "Marks saved in marks.txt\n",
      "Read Marks: [85, 90, 78]\n"
     ]
    }
   ],
   "source": [
    "def calculate_average(marks):\n",
    "    if not marks:\n",
    "        raise ValueError(\"Marks list cannot be empty.\")\n",
    "    if not all(isinstance(mark, (int, float)) for mark in marks):\n",
    "        raise TypeError(\"All elements in marks must be numbers.\")\n",
    "    return sum(marks) / len(marks)\n",
    "\n",
    "def save_marks_to_file(filename, marks):\n",
    "    try:\n",
    "        with open(filename, 'w') as file:\n",
    "            file.write(','.join(map(str, marks)))\n",
    "        print(f\"Marks saved in {filename}\")\n",
    "    except IOError as e:\n",
    "        print(f\"IOError: {e}\")\n",
    "\n",
    "def read_marks_from_file(filename):\n",
    "    try:\n",
    "        with open(filename, 'r') as file:\n",
    "            marks = list(map(int, file.read().split(',')))\n",
    "        return marks\n",
    "    except FileNotFoundError:\n",
    "        print(\"File not found.\")\n",
    "    except ValueError:\n",
    "        print(\"Invalid data.\")\n",
    "\n",
    "student_marks = [85, 90, 78]\n",
    "avg = calculate_average(student_marks)\n",
    "print(\"Average Marks:\", avg)\n",
    "\n",
    "save_marks_to_file(\"marks.txt\", student_marks)\n",
    "read_marks = read_marks_from_file(\"marks.txt\")\n",
    "print(\"Read Marks:\", read_marks)\n"
   ]
  },
  {
   "cell_type": "code",
   "execution_count": 4,
   "metadata": {},
   "outputs": [
    {
     "name": "stdout",
     "output_type": "stream",
     "text": [
      "Insufficient funds to withdraw.\n",
      "Deposited: 100, New Balance: 100\n",
      "InsufficientFundsError: Insufficient funds for withdrawal.\n"
     ]
    }
   ],
   "source": [
    "class InsufficientFundsError(Exception):\n",
    "    \"\"\"Custom exception \"\"\"\n",
    "    print(\"Insufficient funds to withdraw.\")\n",
    "    pass\n",
    "\n",
    "class BankAccount:\n",
    "    def __init__(self):\n",
    "        self.balance = 0\n",
    "\n",
    "    def deposit(self, amount):\n",
    "        if amount <= 0:\n",
    "            raise ValueError(\"Deposit amount must be greater than zero.\")\n",
    "        self.balance += amount\n",
    "        print(f\"Deposited: {amount}, New Balance: {self.balance}\")\n",
    "\n",
    "    def withdraw(self, amount):\n",
    "        if amount > self.balance:\n",
    "            raise InsufficientFundsError(\"Insufficient funds for withdrawal.\")\n",
    "        self.balance -= amount\n",
    "        print(f\"Withdrawn: {amount}, New Balance: {self.balance}\")\n",
    "\n",
    "account = BankAccount()\n",
    "try:\n",
    "    account.deposit(100)\n",
    "    account.withdraw(150)  \n",
    "except ValueError as ve:\n",
    "    print(f\"ValueError: {ve}\")\n",
    "except InsufficientFundsError as ife:\n",
    "    print(f\"InsufficientFundsError: {ife}\")\n"
   ]
  }
 ],
 "metadata": {
  "kernelspec": {
   "display_name": "Python 3",
   "language": "python",
   "name": "python3"
  },
  "language_info": {
   "codemirror_mode": {
    "name": "ipython",
    "version": 3
   },
   "file_extension": ".py",
   "mimetype": "text/x-python",
   "name": "python",
   "nbconvert_exporter": "python",
   "pygments_lexer": "ipython3",
   "version": "3.12.8"
  }
 },
 "nbformat": 4,
 "nbformat_minor": 2
}

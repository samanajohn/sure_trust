{
 "cells": [
  {
   "cell_type": "markdown",
   "metadata": {
    "id": "8hjlpv4ix8LQ"
   },
   "source": [
    "# <center><u>Dream Premier League (DPL)</u>\n",
    "### A match of DPL is going on. Team Aravali has a made score of **195** for **7** in **20** overs and the opponent Team Shivalik is doing some analytics to find out what they need to do to win. You are the Data Scientist of the Team Shivalik and you have been asked to help them."
   ]
  },
  {
   "cell_type": "markdown",
   "metadata": {
    "id": "JkqzpQzX54Z-"
   },
   "source": [
    "## <u>Problem 1</u>\n",
    "\n",
    "### Team Shivalik has stored the runs made by Team Aravali players in the following dictionary.\n",
    "\n"
   ]
  },
  {
   "cell_type": "code",
   "execution_count": null,
   "metadata": {
    "id": "rypcBaB37JMD"
   },
   "outputs": [],
   "source": [
    "aravali ={ \"Dhoni\":25, \"Virat\":31, \"Pollard\":11, \"Rohit\": 0, \"Maxwell\":12, \"Sachin\":59, \"Sehwag\":12 }"
   ]
  },
  {
   "cell_type": "markdown",
   "metadata": {
    "id": "747H1msbg-ns"
   },
   "source": [
    "### Get the list of all players in Team Aravali"
   ]
  },
  {
   "cell_type": "code",
   "execution_count": null,
   "metadata": {
    "id": "poP0TCGdhLuj"
   },
   "outputs": [
    {
     "name": "stdout",
     "output_type": "stream",
     "text": [
      "Players in Team Aravali: ['Dhoni', 'Virat', 'Pollard', 'Rohit', 'Maxwell', 'Sachin', 'Sehwag']\n"
     ]
    }
   ],
   "source": [
    "# Get the list of players in Team Aravali\n",
    "players_list = list(aravali.keys())\n",
    "print(\"Players in Team Aravali:\", players_list)"
   ]
  },
  {
   "cell_type": "markdown",
   "metadata": {
    "id": "YypMEr-i7fCE"
   },
   "source": [
    "## <u>Problem 2</u>\n",
    "\n",
    "### By mistake, the runs made by Rohit was recorded as <code>0</code>. Your next task is to figure out how many runs were made by Rohit and update the dictionary"
   ]
  },
  {
   "cell_type": "code",
   "execution_count": null,
   "metadata": {
    "id": "DZTXlt9I51vd"
   },
   "outputs": [
    {
     "name": "stdout",
     "output_type": "stream",
     "text": [
      "Players in Team Aravali: ['Dhoni', 'Virat', 'Pollard', 'Rohit', 'Maxwell', 'Sachin', 'Sehwag']\n",
      "Updated runs for Rohit: 45\n"
     ]
    }
   ],
   "source": [
    "# We know the total runs\n",
    "\n",
    "# Calculate Rohit's correct runs\n",
    "total_runs = 195\n",
    "rohit_runs = total_runs - sum(runs for player, runs in aravali.items() if player != \"Rohit\")\n",
    "aravali[\"Rohit\"] = rohit_runs\n",
    "\n",
    "# Get the list of all players\n",
    "players_list = list(aravali.keys())\n",
    "print(\"Players in Team Aravali:\", players_list)\n",
    "print(\"Updated runs for Rohit:\", aravali[\"Rohit\"])\n",
    "\n",
    "\n",
    "\n"
   ]
  },
  {
   "cell_type": "code",
   "execution_count": null,
   "metadata": {
    "id": "N46LGzE97waZ"
   },
   "outputs": [
    {
     "name": "stdout",
     "output_type": "stream",
     "text": [
      "Updated runs for Rohit: 45\n"
     ]
    }
   ],
   "source": [
    "# Print runs scored by Rohit\n",
    "print(\"Updated runs for Rohit:\", aravali[\"Rohit\"])\n"
   ]
  },
  {
   "cell_type": "code",
   "execution_count": null,
   "metadata": {
    "id": "4rTAegi67zOq"
   },
   "outputs": [
    {
     "data": {
      "text/plain": [
       "{'Dhoni': 25,\n",
       " 'Virat': 31,\n",
       " 'Pollard': 11,\n",
       " 'Rohit': 45,\n",
       " 'Maxwell': 12,\n",
       " 'Sachin': 59,\n",
       " 'Sehwag': 12}"
      ]
     },
     "execution_count": 6,
     "metadata": {},
     "output_type": "execute_result"
    }
   ],
   "source": [
    "# Update the dictionary with correct value of runs\n",
    "\n",
    "aravali"
   ]
  },
  {
   "cell_type": "markdown",
   "metadata": {
    "id": "iM1FJFlWh7C5"
   },
   "source": [
    "## <u>Problem 4</u>\n",
    "\n",
    "#### Your next task is to find out who scored the second highest runs in Team Aravali"
   ]
  },
  {
   "cell_type": "code",
   "execution_count": null,
   "metadata": {
    "id": "YPdfTlsKiWVx"
   },
   "outputs": [
    {
     "name": "stdout",
     "output_type": "stream",
     "text": [
      "Second highest scorer: Rohit\n"
     ]
    }
   ],
   "source": [
    "# Find the second highest scorer\n",
    "sorted_scores = sorted(aravali.items(), key=lambda x: x[1], reverse=True)\n",
    "second_highest_scorer = sorted_scores[1][0]\n",
    "print(\"Second highest scorer:\", second_highest_scorer)"
   ]
  },
  {
   "cell_type": "markdown",
   "metadata": {
    "id": "se80XQGBGekX"
   },
   "source": [
    "## <u>Problem 4</u>\n",
    "\n",
    "#### Just out of curiosity, you want to find out the unique runs made by Team Aravali players."
   ]
  },
  {
   "cell_type": "code",
   "execution_count": null,
   "metadata": {
    "id": "X-XQWW4lGZaG"
   },
   "outputs": [
    {
     "name": "stdout",
     "output_type": "stream",
     "text": [
      "Unique runs scored by Team Aravali players: {11, 12, 45, 25, 59, 31}\n"
     ]
    }
   ],
   "source": [
    "# Find unique runs made by players\n",
    "unique_runs = set(aravali.values())\n",
    "print(\"Unique runs scored by Team Aravali players:\", unique_runs)"
   ]
  },
  {
   "cell_type": "code",
   "execution_count": null,
   "metadata": {
    "id": "GL56nYUzF6hs"
   },
   "outputs": [
    {
     "name": "stdout",
     "output_type": "stream",
     "text": [
      "Unique runs scored by Team Aravali players: {11, 12, 45, 25, 59, 31}\n"
     ]
    }
   ],
   "source": [
    "# Print the unique runs\n",
    "unique_runs = set(aravali.values())\n",
    "print(\"Unique runs scored by Team Aravali players:\", unique_runs)\n"
   ]
  },
  {
   "cell_type": "markdown",
   "metadata": {
    "id": "IJvnHaNzeGMP"
   },
   "source": [
    "## <u>Problem 5</u>\n",
    "#### Team Shivalik has 6 fixed players and 5 slots for players who are playing good currently. Create two collections using appropriate data structure to write this 6 fixed and 5 mutable players. You can choose any player you want.\n",
    "\n",
    "#### Available Players in the squad :\n",
    "<code>['Vijay', 'Lasith', 'Dravid', 'Smith', 'Ambati', 'Hardik', 'Sushant', 'Mandeep', 'Harbhajan', 'Yuvraj', 'Jadeja','Rajeev','Amrit']\n"
   ]
  },
  {
   "cell_type": "code",
   "execution_count": null,
   "metadata": {
    "id": "-0hTOMTQdEXE"
   },
   "outputs": [
    {
     "name": "stdout",
     "output_type": "stream",
     "text": [
      "Fixed Players: ('Vijay', 'Lasith', 'Dravid', 'Smith', 'Ambati', 'Hardik')\n",
      "Mutable Players: ['Sushant', 'Mandeep', 'Harbhajan', 'Yuvraj', 'Jadeja']\n"
     ]
    }
   ],
   "source": [
    "# Available players in the squad\n",
    "squad = ['Vijay', 'Lasith', 'Dravid', 'Smith', 'Ambati', 'Hardik', 'Sushant', 'Mandeep', 'Harbhajan', 'Yuvraj', 'Jadeja', 'Rajeev', 'Amrit']\n",
    "\n",
    "# Fixed players (using a tuple since it's immutable)\n",
    "fixed_players = ('Vijay', 'Lasith', 'Dravid', 'Smith', 'Ambati', 'Hardik')\n",
    "\n",
    "# Mutable players (using a list since it can be modified)\n",
    "mutable_players = ['Sushant', 'Mandeep', 'Harbhajan', 'Yuvraj', 'Jadeja']\n",
    "\n",
    "print(\"Fixed Players:\", fixed_players)\n",
    "print(\"Mutable Players:\", mutable_players)\n"
   ]
  },
  {
   "cell_type": "code",
   "execution_count": null,
   "metadata": {
    "id": "1PEvrGDwfjc5"
   },
   "outputs": [
    {
     "name": "stdout",
     "output_type": "stream",
     "text": [
      "Fixed Players: ('Vijay', 'Lasith', 'Dravid', 'Smith', 'Ambati', 'Hardik')\n",
      "Mutable Players: ['Sushant', 'Mandeep', 'Harbhajan', 'Yuvraj', 'Jadeja']\n"
     ]
    }
   ],
   "source": [
    "# Print them on same line using comma to seperate them\n",
    "print(\"Fixed Players:\", fixed_players)\n",
    "print(\"Mutable Players:\", mutable_players)\n"
   ]
  },
  {
   "cell_type": "markdown",
   "metadata": {
    "id": "N-VdT09NfhL6"
   },
   "source": [
    "## <u>Problem 6</u>\n",
    "Try changing fixed player and mutable player"
   ]
  },
  {
   "cell_type": "code",
   "execution_count": null,
   "metadata": {
    "id": "E4lN-bxbffnF"
   },
   "outputs": [
    {
     "name": "stdout",
     "output_type": "stream",
     "text": [
      "Fixed Players: ('Vijay', 'Lasith', 'Dravid', 'Smith', 'Ambati', 'Hardik')\n",
      "Mutable Players: ['Rajeev', 'Mandeep', 'Yuvraj', 'Jadeja', 'Amrit']\n"
     ]
    }
   ],
   "source": [
    "# Change fixed player\n",
    "\n",
    "# Trying to change a fixed player (will cause an error if uncommented)\n",
    "# fixed_players[0] = 'Rajeev'  # Tuples are immutable\n",
    "\n",
    "# Changing a mutable player\n",
    "mutable_players[0] = 'Rajeev'\n",
    "\n",
    "# Adding a new mutable player\n",
    "mutable_players.append('Amrit')\n",
    "\n",
    "# Removing a mutable player\n",
    "mutable_players.remove('Harbhajan')\n",
    "\n",
    "print(\"Fixed Players:\", fixed_players)\n",
    "print(\"Mutable Players:\", mutable_players)\n"
   ]
  },
  {
   "cell_type": "code",
   "execution_count": null,
   "metadata": {
    "id": "mbfWHggRgYJK"
   },
   "outputs": [
    {
     "name": "stdout",
     "output_type": "stream",
     "text": [
      "Fixed Players: ('Vijay', 'Lasith', 'Dravid', 'Smith', 'Ambati', 'Hardik')\n",
      "Updated Mutable Players: ['Sushant', 'Rajeev', 'Harbhajan', 'Yuvraj', 'Amrit']\n"
     ]
    }
   ],
   "source": [
    "# Change mutable player\n",
    "# Define fixed players (tuple - immutable)\n",
    "fixed_players = ('Vijay', 'Lasith', 'Dravid', 'Smith', 'Ambati', 'Hardik')\n",
    "\n",
    "# Define mutable players (list - can be modified)\n",
    "mutable_players = ['Sushant', 'Mandeep', 'Harbhajan', 'Yuvraj', 'Jadeja']\n",
    "\n",
    "# Modify the mutable players\n",
    "mutable_players[1] = 'Rajeev'   # Replace 'Mandeep' with 'Rajeev'\n",
    "mutable_players.append('Amrit') # Add a new player\n",
    "mutable_players.remove('Jadeja') # Remove a player\n",
    "\n",
    "print(\"Fixed Players:\", fixed_players)\n",
    "print(\"Updated Mutable Players:\", mutable_players)\n",
    "\n"
   ]
  },
  {
   "cell_type": "markdown",
   "metadata": {
    "id": "KHrH5V0HFFhq"
   },
   "source": [
    "## <u> Problem 7</u>\n",
    "\n",
    "#### Find out the runrate required for Team Shivalik to win (for 20 overs)<br>\n",
    "#### Hint: Runrate is runs required per over to win the match"
   ]
  },
  {
   "cell_type": "code",
   "execution_count": null,
   "metadata": {
    "id": "QFd1CnS5E79X"
   },
   "outputs": [],
   "source": [
    "# Your code here\n",
    "# Given data\n",
    "target_runs = 195 + 1  # Team Shivalik needs 196 runs to win\n",
    "total_overs = 20\n",
    "# Calculate required run rate\n",
    "required_run_rate = target_runs / total_overs"
   ]
  },
  {
   "cell_type": "code",
   "execution_count": null,
   "metadata": {
    "id": "7f5Mnj93Ft3a"
   },
   "outputs": [
    {
     "name": "stdout",
     "output_type": "stream",
     "text": [
      "Required Run Rate for Team Shivalik: 9.8\n"
     ]
    }
   ],
   "source": [
    "# Print the run rate\n",
    "print(\"Required Run Rate for Team Shivalik:\", round(required_run_rate, 2))"
   ]
  },
  {
   "cell_type": "markdown",
   "metadata": {
    "id": "uukQzwZQNwBE"
   },
   "source": [
    "## <u> Problem 8</u>\n",
    "#### You have just received a secret message form your informant stating that some players of the other team are into match fixing. You have to decode a message and inform authorities about it.<br>\n",
    "\n",
    "#### You received a string **\"skdlfjnvuerhw qefnnaosfu qrhviudhfv wuirhv adknlkxjcier vafuvhkajn iuvhsf vasuif KJSHFKJ aeuihvasf akjfhiufe\"** and index of \"i\" are going to be \"no balls\".\n",
    "\n",
    "\n",
    "### Find the first and last no ball from the string."
   ]
  },
  {
   "cell_type": "code",
   "execution_count": null,
   "metadata": {
    "id": "qJpki-fNJxvr"
   },
   "outputs": [
    {
     "name": "stdout",
     "output_type": "stream",
     "text": [
      "First No Ball Index: 29\n",
      "Last No Ball Index: 104\n"
     ]
    }
   ],
   "source": [
    "#First no ball\n",
    "message = \"skdlfjnvuerhw qefnnaosfu qrhviudhfv wuirhv adknlkxjcier vafuvhkajn iuvhsf vasuif KJSHFKJ aeuihvasf akjfhiufe\"\n",
    "# Find all indices of 'i'\n",
    "no_ball_indices = [index for index, char in enumerate(message) if char == 'i']\n",
    "\n",
    "# Get first and last no ball\n",
    "first_no_ball = no_ball_indices[0] if no_ball_indices else None\n",
    "last_no_ball = no_ball_indices[-1] if no_ball_indices else None\n",
    "\n",
    "# Last no ball"
   ]
  },
  {
   "cell_type": "markdown",
   "metadata": {},
   "source": []
  },
  {
   "cell_type": "code",
   "execution_count": 24,
   "metadata": {
    "id": "8qMvmZydQAlr"
   },
   "outputs": [
    {
     "name": "stdout",
     "output_type": "stream",
     "text": [
      "First No Ball Index: 29\n",
      "Last No Ball Index: 104\n"
     ]
    }
   ],
   "source": [
    "# Print the first and last ball numbers\n",
    "\n",
    "print(\"First No Ball Index:\", first_no_ball)\n",
    "print(\"Last No Ball Index:\", last_no_ball)\n"
   ]
  },
  {
   "cell_type": "markdown",
   "metadata": {
    "id": "dOIGKmlKaV8j"
   },
   "source": [
    "## <u>Problem 9</u>\n",
    "\n",
    "### You have given the information about fixing to the authorities and they are going to verify it during the match. But still you have to work on your strategy.\n",
    "\n",
    "### It is in your hands to automate the decision on who goes on 4th position for batting depending on following criteria:\n",
    "\n",
    "* if runs made by Team Shivalik is less than 50, Smith will play\n",
    "* if runs are between 51 to 100 then Sir Jadeja will go\n",
    "* if runs are above 100 then Hardik will play"
   ]
  },
  {
   "cell_type": "code",
   "execution_count": 25,
   "metadata": {
    "id": "DpnGURU1Y-Af"
   },
   "outputs": [
    {
     "name": "stdout",
     "output_type": "stream",
     "text": [
      "Batsman at 4th position: Sir Jadeja\n"
     ]
    }
   ],
   "source": [
    "\n",
    "# Function to decide who bats at 4th position\n",
    "def choose_batsman(runs):\n",
    "    if runs < 50:\n",
    "        return \"Smith\"\n",
    "    elif 51 <= runs <= 100:\n",
    "        return \"Sir Jadeja\"\n",
    "    else:\n",
    "        return \"Hardik\"\n",
    "\n",
    "# Example: Set Team Shivalik's current score\n",
    "shivalik_runs = 85  # Change this value to test different scenarios\n",
    "\n",
    "# Get the batsman for the 4th position\n",
    "batsman = choose_batsman(shivalik_runs)\n",
    "print(\"Batsman at 4th position:\", batsman)\n",
    "\n",
    "\n",
    "\n",
    "\n"
   ]
  },
  {
   "cell_type": "markdown",
   "metadata": {
    "id": "kLakmjOYmKMM"
   },
   "source": [
    "# Hurray! Turns out you won the match and the guilty players are punished as well. You should be proud of yourself!"
   ]
  },
  {
   "cell_type": "code",
   "execution_count": null,
   "metadata": {
    "id": "8xRCkwJ76n_I"
   },
   "outputs": [],
   "source": []
  }
 ],
 "metadata": {
  "colab": {
   "provenance": []
  },
  "kernelspec": {
   "display_name": "Python 3",
   "language": "python",
   "name": "python3"
  },
  "language_info": {
   "codemirror_mode": {
    "name": "ipython",
    "version": 3
   },
   "file_extension": ".py",
   "mimetype": "text/x-python",
   "name": "python",
   "nbconvert_exporter": "python",
   "pygments_lexer": "ipython3",
   "version": "3.13.2"
  }
 },
 "nbformat": 4,
 "nbformat_minor": 1
}

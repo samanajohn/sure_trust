{
 "cells": [
  {
   "cell_type": "markdown",
   "metadata": {},
   "source": [
    "<h2><span style=\"color:red\">🚨 Run the below cell to install and import required packages</span></h2>\n"
   ]
  },
  {
   "cell_type": "code",
   "execution_count": 3,
   "metadata": {},
   "outputs": [
    {
     "name": "stdout",
     "output_type": "stream",
     "text": [
      "Processing ./numpy_assignment_tests-0.1-py3-none-any.whl\n",
      "Installing collected packages: numpy-assignment-tests\n",
      "  Attempting uninstall: numpy-assignment-tests\n",
      "    Found existing installation: numpy-assignment-tests 0.1\n",
      "    Uninstalling numpy-assignment-tests-0.1:\n",
      "      Successfully uninstalled numpy-assignment-tests-0.1\n",
      "Successfully installed numpy-assignment-tests-0.1\n",
      "\n",
      "\u001b[1m[\u001b[0m\u001b[34;49mnotice\u001b[0m\u001b[1;39;49m]\u001b[0m\u001b[39;49m A new release of pip is available: \u001b[0m\u001b[31;49m24.3.1\u001b[0m\u001b[39;49m -> \u001b[0m\u001b[32;49m25.0.1\u001b[0m\n",
      "\u001b[1m[\u001b[0m\u001b[34;49mnotice\u001b[0m\u001b[1;39;49m]\u001b[0m\u001b[39;49m To update, run: \u001b[0m\u001b[32;49mpip3 install --upgrade pip\u001b[0m\n",
      "Note: you may need to restart the kernel to use updated packages.\n"
     ]
    }
   ],
   "source": [
    "%pip install numpy_assignment_tests-0.1-py3-none-any.whl --force-reinstall\n",
    "import numpy as np"
   ]
  },
  {
   "cell_type": "markdown",
   "metadata": {},
   "source": [
    "## 📝 **18th April NumPy Class Test - 45 Minute Duration**\n",
    "\n",
    "---\n",
    "\n",
    "### ✅ **Problem 1: Array Creation and Basic Operations**\n",
    "\n",
    "**Steps to solve:**\n",
    "\n",
    "1. Create a NumPy array of even numbers from 10 to 50 (inclusive).\n",
    "2. Multiply all elements of the array by 2 and store it in a new variable.\n",
    "3. Compute the sum of all elements in the doubled array.\n",
    "4. Reshape the doubled array into a 2D array with 5 rows and 4 columns.\n",
    "\n",
    "**Function Signature:**"
   ]
  },
  {
   "cell_type": "code",
   "execution_count": null,
   "metadata": {},
   "outputs": [],
   "source": []
  },
  {
   "cell_type": "code",
   "execution_count": 4,
   "metadata": {},
   "outputs": [],
   "source": [
    "def problem1():\n",
    "    arr = np.arange(10, 51, 2)  \n",
    "\n",
    "    arr_doubled = arr * 2\n",
    "\n",
    "    total = np.sum(arr_doubled)\n",
    "\n",
    "    reshaped = arr_doubled[:20].reshape(5, 4)\n",
    "\n",
    "    return arr_doubled, total, reshaped"
   ]
  },
  {
   "cell_type": "code",
   "execution_count": null,
   "metadata": {},
   "outputs": [],
   "source": []
  },
  {
   "cell_type": "code",
   "execution_count": null,
   "metadata": {},
   "outputs": [],
   "source": []
  },
  {
   "cell_type": "code",
   "execution_count": 13,
   "metadata": {},
   "outputs": [
    {
     "name": "stdout",
     "output_type": "stream",
     "text": [
      "[✔] Problem 1 Passed — Score: 20/20\n"
     ]
    }
   ],
   "source": [
    "try:\n",
    "    from numpy_assignment_tests import test\n",
    "    test.test_problem1(problem1)\n",
    "except:\n",
    "    print(\"Try Again!\")"
   ]
  },
  {
   "cell_type": "markdown",
   "metadata": {},
   "source": [
    "\n",
    "---\n",
    "\n",
    "### ✅ **Problem 2: Indexing and Slicing**\n",
    "\n",
    "**Steps to solve:**\n",
    "\n",
    "1. Create a 5x5 NumPy array with numbers from 1 to 25 (row-wise).\n",
    "2. Extract the 2nd and 4th rows (index 1 and 3).\n",
    "3. Extract the 3rd column (index 2).\n",
    "4. Extract a subarray from rows 2 to 4 and columns 2 to 5.\n",
    "\n",
    "**Function Signature:**"
   ]
  },
  {
   "cell_type": "code",
   "execution_count": 14,
   "metadata": {},
   "outputs": [
    {
     "data": {
      "text/plain": [
       "(array([[ 6,  7,  8,  9, 10],\n",
       "        [16, 17, 18, 19, 20]]),\n",
       " array([ 3,  8, 13, 18, 23]),\n",
       " array([[13, 14, 15],\n",
       "        [18, 19, 20],\n",
       "        [23, 24, 25]]))"
      ]
     },
     "execution_count": 14,
     "metadata": {},
     "output_type": "execute_result"
    }
   ],
   "source": [
    "def problem2():\n",
    "    arr = np.arange(1, 26).reshape(5, 5)\n",
    "    rows = arr[[1, 3], :]          \n",
    "    col = arr[:, 2]               \n",
    "    subarray = arr[2:5, 2:5]     \n",
    "\n",
    "    return rows, col, subarray\n",
    "\n",
    "problem2()"
   ]
  },
  {
   "cell_type": "code",
   "execution_count": null,
   "metadata": {},
   "outputs": [],
   "source": []
  },
  {
   "cell_type": "code",
   "execution_count": null,
   "metadata": {},
   "outputs": [],
   "source": []
  },
  {
   "cell_type": "code",
   "execution_count": 15,
   "metadata": {},
   "outputs": [
    {
     "name": "stdout",
     "output_type": "stream",
     "text": [
      "[✔] Problem 2 Passed — Score: 20/20\n"
     ]
    }
   ],
   "source": [
    "try:\n",
    "    from numpy_assignment_tests import test\n",
    "    test.test_problem2(problem2)\n",
    "except:\n",
    "    print(\"Try Again!\")"
   ]
  },
  {
   "cell_type": "markdown",
   "metadata": {},
   "source": [
    "---\n",
    "\n",
    "### ✅ **Problem 3: Boolean Masking and Conditional Operations**\n",
    "\n",
    "**Steps to solve:**\n",
    "\n",
    "1. Create a NumPy array of integers from 1 to 20.\n",
    "2. Use boolean masking to extract all numbers divisible by 3.\n",
    "3. Replace all numbers greater than 15 in the original array with -1.\n",
    "\n",
    "**Function Signature:**"
   ]
  },
  {
   "cell_type": "code",
   "execution_count": 17,
   "metadata": {},
   "outputs": [],
   "source": [
    "def problem3():\n",
    "    \n",
    "    arr = np.arange(1, 21)\n",
    "\n",
    "    divisible_by_3 = arr[arr % 3 == 0]\n",
    "\n",
    "    replaced_array = np.where(arr > 15, -1, arr)\n",
    "\n",
    "    return divisible_by_3, replaced_array\n"
   ]
  },
  {
   "cell_type": "code",
   "execution_count": null,
   "metadata": {},
   "outputs": [],
   "source": []
  },
  {
   "cell_type": "code",
   "execution_count": null,
   "metadata": {},
   "outputs": [],
   "source": []
  },
  {
   "cell_type": "code",
   "execution_count": 18,
   "metadata": {},
   "outputs": [
    {
     "name": "stdout",
     "output_type": "stream",
     "text": [
      "[✔] Problem 3 Passed — Score: 20/20\n"
     ]
    }
   ],
   "source": [
    "try:\n",
    "    from numpy_assignment_tests import test\n",
    "    test.test_problem3(problem3)\n",
    "except:\n",
    "    print(\"Try Again!\")"
   ]
  },
  {
   "cell_type": "markdown",
   "metadata": {},
   "source": [
    "---\n",
    "\n",
    "### ✅ **Problem 4: Aggregate Functions and Axis Operations**\n",
    "\n",
    "**Steps to solve:**\n",
    "\n",
    "1. Create a 4x4 NumPy array with values from 1 to 16.\n",
    "2. Calculate the mean of each row.\n",
    "3. Calculate the sum of each column.\n",
    "\n",
    "**Function Signature:**"
   ]
  },
  {
   "cell_type": "code",
   "execution_count": 19,
   "metadata": {},
   "outputs": [],
   "source": [
    "\n",
    "\n",
    "def problem4():\n",
    "    arr = np.arange(1, 17).reshape(4, 4)\n",
    "\n",
    "    row_means = arr.mean(axis=1)\n",
    "\n",
    "    col_sums = arr.sum(axis=0)\n",
    "\n",
    "    return row_means, col_sums\n",
    "\n"
   ]
  },
  {
   "cell_type": "code",
   "execution_count": null,
   "metadata": {},
   "outputs": [],
   "source": []
  },
  {
   "cell_type": "code",
   "execution_count": null,
   "metadata": {},
   "outputs": [],
   "source": []
  },
  {
   "cell_type": "code",
   "execution_count": 20,
   "metadata": {},
   "outputs": [
    {
     "name": "stdout",
     "output_type": "stream",
     "text": [
      "[✔] Problem 4 Passed — Score: 20/20\n"
     ]
    }
   ],
   "source": [
    "try:\n",
    "    from numpy_assignment_tests import test\n",
    "    test.test_problem4(problem4)\n",
    "except:\n",
    "    print(\"Try Again!\")"
   ]
  },
  {
   "cell_type": "markdown",
   "metadata": {},
   "source": [
    "---\n",
    "\n",
    "### ✅ **Problem 5: Stacking and Splitting Arrays**\n",
    "\n",
    "**Steps to solve:**\n",
    "\n",
    "1. Create two NumPy arrays: `a = [1, 2, 3]`, `b = [4, 5, 6]`.\n",
    "2. Stack them vertically and horizontally.\n",
    "3. Split the horizontal stacked array into two equal parts.\n",
    "\n",
    "**Function Signature:**"
   ]
  },
  {
   "cell_type": "code",
   "execution_count": 21,
   "metadata": {},
   "outputs": [],
   "source": [
    "\n",
    "def problem5():\n",
    "    a = np.array([11, 2, 31])\n",
    "    b = np.array([14, 5, 61])\n",
    "    \n",
    "    vstacked = np.vstack((a, b))\n",
    "    hstacked = np.hstack((a, b))\n",
    "    \n",
    "    split_arrays = np.array_split(hstacked, 2)\n",
    "\n",
    "    return vstacked, hstacked, split_arrays\n"
   ]
  },
  {
   "cell_type": "code",
   "execution_count": null,
   "metadata": {},
   "outputs": [],
   "source": []
  },
  {
   "cell_type": "code",
   "execution_count": null,
   "metadata": {},
   "outputs": [],
   "source": []
  },
  {
   "cell_type": "code",
   "execution_count": 22,
   "metadata": {},
   "outputs": [
    {
     "name": "stdout",
     "output_type": "stream",
     "text": [
      "[✔] Problem 5 Passed — Score: 20/20\n"
     ]
    }
   ],
   "source": [
    "try:\n",
    "    from numpy_assignment_tests import test\n",
    "    test.test_problem5(problem5)\n",
    "except:\n",
    "    print(\"Try Again!\")"
   ]
  },
  {
   "cell_type": "markdown",
   "metadata": {},
   "source": [
    "<h3><span style=\"color:red\">🚨 Run the below cell to execute all test cases and get the final score</span></h3>\n"
   ]
  },
  {
   "cell_type": "code",
   "execution_count": 24,
   "metadata": {},
   "outputs": [
    {
     "name": "stdout",
     "output_type": "stream",
     "text": [
      "=== NumPy Assignment Evaluation ===\n",
      "[✔] Problem 1 Passed — Score: 20/20\n",
      "[✔] Problem 2 Passed — Score: 20/20\n",
      "[✔] Problem 3 Passed — Score: 20/20\n",
      "[✔] Problem 4 Passed — Score: 20/20\n",
      "[✔] Problem 5 Passed — Score: 20/20\n",
      "\n",
      "🏁 Final Score: 100/100\n"
     ]
    }
   ],
   "source": [
    "## DO NOT MODIFY ##\n",
    "try:\n",
    "    from numpy_assignment_tests import test\n",
    "    student_name = input(\"Enter your full name: \").strip()\n",
    "    test.run_all_tests({\n",
    "        \"problem1\": problem1,\n",
    "        \"problem2\": problem2,\n",
    "        \"problem3\": problem3,\n",
    "        \"problem4\": problem4,\n",
    "        \"problem5\": problem5\n",
    "    }, student_name)\n",
    "except:\n",
    "    print(\"Check again and complete all the questions completely!!\")"
   ]
  },
  {
   "cell_type": "code",
   "execution_count": null,
   "metadata": {},
   "outputs": [],
   "source": []
  }
 ],
 "metadata": {
  "colab": {
   "provenance": []
  },
  "kernelspec": {
   "display_name": "Python 3",
   "language": "python",
   "name": "python3"
  },
  "language_info": {
   "codemirror_mode": {
    "name": "ipython",
    "version": 3
   },
   "file_extension": ".py",
   "mimetype": "text/x-python",
   "name": "python",
   "nbconvert_exporter": "python",
   "pygments_lexer": "ipython3",
   "version": "3.13.2"
  }
 },
 "nbformat": 4,
 "nbformat_minor": 1
}

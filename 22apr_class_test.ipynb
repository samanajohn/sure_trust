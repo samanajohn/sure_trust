{
 "cells": [
  {
   "cell_type": "markdown",
   "id": "176123eb",
   "metadata": {},
   "source": [
    "Q1. Write a Python program that takes a sentence as input and returns a dictionary where the\n",
    "keys are vowels and the values are the number of times each vowel appears in the sentence.\n",
    "Ignore case.\n",
    "Example Input: \"Education is important\"\n",
    "Expected Output: {'a': 2, 'e': 1, 'i': 2, 'o': 1, 'u': 1}"
   ]
  },
  {
   "cell_type": "code",
   "execution_count": null,
   "id": "1c8208e3",
   "metadata": {},
   "outputs": [
    {
     "name": "stdout",
     "output_type": "stream",
     "text": [
      "{'o': 5, 'u': 1, 'a': 5, 'e': 2, 'i': 1}\n"
     ]
    }
   ],
   "source": [
    "def count_vowels(sentence):\n",
    "    vowels = \"aeiou\"\n",
    "    sentence = sentence.lower()\n",
    "    result = {}\n",
    "    for char in sentence:\n",
    "        if char in vowels:\n",
    "            result[char] = result.get(char, 0) + 1\n",
    "    return result\n",
    "\n",
    "\n",
    "sentence = \"you are looking at John Samana repo\"\n",
    "print(count_vowels(sentence))  "
   ]
  },
  {
   "cell_type": "markdown",
   "id": "13c5a409",
   "metadata": {},
   "source": [
    "Q2. Write a function that checks if a given number is a palindrome. Then write another function\n",
    "that prints all palindrome numbers between two given numbers (inclusive).\n",
    "Example Input: start = 100, end = 150\n",
    "Expected Output: 101 111 121 131 141"
   ]
  },
  {
   "cell_type": "code",
   "execution_count": null,
   "id": "f1cd4fff",
   "metadata": {},
   "outputs": [
    {
     "name": "stdout",
     "output_type": "stream",
     "text": [
      "[101, 111, 121, 131, 141, 151, 161, 171, 181, 191]\n"
     ]
    }
   ],
   "source": [
    "def is_palindrome(num):\n",
    "    return str(num) == str(num)[::-1]\n",
    "\n",
    "def find_palindromes(start, end):\n",
    "    return [num for num in range(start, end + 1) if is_palindrome(num)]\n",
    "\n",
    "start = 100\n",
    "end = 200\n",
    "print(find_palindromes(start, end)) \n"
   ]
  },
  {
   "cell_type": "markdown",
   "id": "3d6fec81",
   "metadata": {},
   "source": [
    "Q3. Create a class Employee with attributes emp_id, name, and salary. Write methods to:\n",
    "• Display employee details\n",
    "• Write the details to a file named employee_data.txt in CSV format\n",
    "• Read from the file and display the content"
   ]
  },
  {
   "cell_type": "code",
   "execution_count": null,
   "id": "e3d319ed",
   "metadata": {},
   "outputs": [
    {
     "name": "stdout",
     "output_type": "stream",
     "text": [
      "ID: 1, Name: John Doe, Salary: 50000\n",
      "Details saved to employee_data.txt\n",
      "File Content:\n",
      "1,John Doe,50000\n",
      "\n"
     ]
    }
   ],
   "source": [
    "class Employee:\n",
    "    def __init__(self, emp_id, name, salary):\n",
    "        self.emp_id = emp_id\n",
    "        self.name = name\n",
    "        self.salary = salary\n",
    "\n",
    "    def display_details(self):\n",
    "        print(f\"ID: {self.emp_id}, Name: {self.name}, Salary: {self.salary}\")\n",
    "\n",
    "    def save_to_file(self, filename=\"employee_data.txt\"):\n",
    "        with open(filename, \"w\") as file:\n",
    "            file.write(f\"{self.emp_id},{self.name},{self.salary}\\n\")\n",
    "        print(f\"Details saved to {filename}\")\n",
    "\n",
    "    def read_from_file(self, filename=\"employee_data.txt\"):\n",
    "        with open(filename, \"r\") as file:\n",
    "            content = file.read()\n",
    "        print(\"File Content:\")\n",
    "        print(content)\n",
    "\n",
    "\n",
    "emp = Employee(1, \"John Doe\", 50000)\n",
    "emp.display_details()\n",
    "emp.save_to_file()\n",
    "emp.read_from_file()\n"
   ]
  },
  {
   "cell_type": "markdown",
   "id": "e924d320",
   "metadata": {},
   "source": [
    "Q4. Create a class LogAnalyzer that reads a file called log.txt, counts the number of lines that contain\n",
    "the word \"error\" (case-insensitive), and prints the count. Include proper function(s) and file\n",
    "handling. Assume log.txt contains multiple lines.\n",
    "Log.txt:\n",
    "INFO: System initialized successfully\n",
    "ERROR: Failed to connect to the database\n",
    "WARNING: Deprecated function used\n",
    "info: User logged in\n",
    "error: Timeout while connecting to server\n",
    "DEBUG: Memory usage is within limits\n",
    "ERROR: Null pointer exception occurred\n",
    "Warning: Battery level low\n",
    "fatal: System crash detected\n",
    "Error: File not found"
   ]
  },
  {
   "cell_type": "code",
   "execution_count": null,
   "id": "9da0cae4",
   "metadata": {},
   "outputs": [
    {
     "name": "stdout",
     "output_type": "stream",
     "text": [
      "Number of lines containing 'error': 4\n"
     ]
    }
   ],
   "source": [
    "class LogAnalyzer:\n",
    "    def __init__(self, filename=\"log.txt\"):\n",
    "        self.filename = filename\n",
    "\n",
    "    def count_errors(self):\n",
    "        try:\n",
    "            with open(self.filename, \"r\") as file:\n",
    "                count = sum(1 for line in file if \"error\" in line.lower())\n",
    "            print(f\"Number of lines containing 'error': {count}\")\n",
    "        except FileNotFoundError:\n",
    "            print(f\"The file '{self.filename}' does not exist.\")\n",
    "\n",
    "\n",
    "log_analyzer = LogAnalyzer(\"log.txt\")\n",
    "log_analyzer.count_errors()\n"
   ]
  }
 ],
 "metadata": {
  "kernelspec": {
   "display_name": "Python 3",
   "language": "python",
   "name": "python3"
  },
  "language_info": {
   "codemirror_mode": {
    "name": "ipython",
    "version": 3
   },
   "file_extension": ".py",
   "mimetype": "text/x-python",
   "name": "python",
   "nbconvert_exporter": "python",
   "pygments_lexer": "ipython3",
   "version": "3.13.2"
  }
 },
 "nbformat": 4,
 "nbformat_minor": 5
}

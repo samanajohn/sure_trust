{
 "cells": [
  {
   "cell_type": "markdown",
   "metadata": {},
   "source": [
    "Hameeda Parvin-py1"
   ]
  },
  {
   "cell_type": "code",
   "execution_count": 4,
   "metadata": {},
   "outputs": [
    {
     "name": "stdout",
     "output_type": "stream",
     "text": [
      "{'g': 2, 'o': 3, 'l': 1, 'e': 1, '.': 1, 'c': 1, 'm': 1}\n"
     ]
    }
   ],
   "source": [
    "def count_characters(msg):\n",
    "    frequency = {}  \n",
    "    for char in msg.lower():  \n",
    "        frequency[char] = frequency.get(char, 0) + 1  \n",
    "    return frequency\n",
    "\n",
    "\n",
    "msg = input(\"Enter a message: \")\n",
    "result = count_characters(msg)\n",
    "print(result)\n"
   ]
  },
  {
   "cell_type": "code",
   "execution_count": 6,
   "metadata": {},
   "outputs": [
    {
     "name": "stdout",
     "output_type": "stream",
     "text": [
      "Number is not Armstrong\n"
     ]
    }
   ],
   "source": [
    "def is_armstrong(number):\n",
    "    num_str = str(number) \n",
    "    num_digits = len(num_str)  \n",
    "    armstrong_sum = sum(int(digit) ** num_digits for digit in num_str)  \n",
    "    \n",
    "    if armstrong_sum == number:\n",
    "        print(\"Number is Armstrong\")\n",
    "    else:\n",
    "        print(\"Number is not Armstrong\")\n",
    "\n",
    "num = int(input(\"Enter a number: \"))  \n",
    "is_armstrong(num)\n"
   ]
  },
  {
   "cell_type": "code",
   "execution_count": 7,
   "metadata": {},
   "outputs": [
    {
     "name": "stdout",
     "output_type": "stream",
     "text": [
      "Hello world is amazing and fun\n"
     ]
    }
   ],
   "source": [
    "def is_prime(n):\n",
    "    if n < 2:\n",
    "        return False\n",
    "    for i in range(2, n):\n",
    "        if n % i == 0:\n",
    "            return False\n",
    "    return True\n",
    "\n",
    "def find_prime_length_words(sentence):\n",
    "    words = sentence.split()  \n",
    "    result = []  \n",
    "    \n",
    "    for word in words:\n",
    "        word = ''.join(char for char in word if char.isalnum())  \n",
    "        if is_prime(len(word)):  \n",
    "            result.append(word)\n",
    "    \n",
    "    return \" \".join(result)  \n",
    "sentence = input(\"Enter a sentence: \")\n",
    "print(find_prime_length_words(sentence))\n"
   ]
  }
 ],
 "metadata": {
  "kernelspec": {
   "display_name": "Python 3",
   "language": "python",
   "name": "python3"
  },
  "language_info": {
   "codemirror_mode": {
    "name": "ipython",
    "version": 3
   },
   "file_extension": ".py",
   "mimetype": "text/x-python",
   "name": "python",
   "nbconvert_exporter": "python",
   "pygments_lexer": "ipython3",
   "version": "3.13.1"
  }
 },
 "nbformat": 4,
 "nbformat_minor": 2
}

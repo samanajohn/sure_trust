{
 "cells": [
  {
   "cell_type": "markdown",
   "metadata": {},
   "source": [
    "HAmeeda parvin-py2"
   ]
  },
  {
   "cell_type": "markdown",
   "metadata": {},
   "source": [
    "<h2 style=\"color:yellow\">Question 1: Calculate Euclidean distance</h2>\n",
    "Write a Python program to calculate Euclidean Distance.<br>\n",
    "Example 1:<br>\n",
    "Input:<br>\n",
    "Given First point values P(x1, y1) : 6 , 7<br>\n",
    "Given second point values Q(x2, y2) : 5, 4<br>\n",
    "Output:<br>\n",
    "The Euclidean Distance between the above given two points 'PQ' = 3.1622776601683795"
   ]
  },
  {
   "cell_type": "code",
   "execution_count": 4,
   "metadata": {},
   "outputs": [
    {
     "name": "stdout",
     "output_type": "stream",
     "text": [
      "The Euclidean Distance between (6.0, 7.0) and (5.0, 4.0) is: 3.1622776601683795\n"
     ]
    }
   ],
   "source": [
    "import math\n",
    "\n",
    "x1=float(input(\"Enter x1:\"))\n",
    "y1 = float(input(\"Enter y1: \"))\n",
    "x2 = float(input(\"Enter x2: \"))\n",
    "y2 = float(input(\"Enter y2: \"))\n",
    "distance = math.sqrt((x2 - x1)**2 + (y2 - y1)**2)\n",
    "\n",
    "print(f\"The Euclidean Distance between ({x1}, {y1}) and ({x2}, {y2}) is: {distance}\")\n"
   ]
  },
  {
   "cell_type": "markdown",
   "metadata": {},
   "source": [
    "<h2 style=\"color:yellow\">Question 2: Reverse User Input for Data Processing</h2>\n",
    "Imagine you are developing a secure system for user input validation, and part of the system<br> \n",
    "involves reversing strings (such as passwords or IDs) for a unique encryption method.<br>\n",
    "Write a Python program that accepts a string from the user and returns it in reverse order. This <br>\n",
    "could simulate part of a process where data is transformed before being stored or transmitted <br>\n",
    "securely.<br>\n",
    "<b>Example 1:</b><br>\n",
    "Input:<br>\n",
    "1234abcd<br>\n",
    "Output:<br>\n",
    "dcba4321<br>\n",
    "Explanation:<br>\n",
    "Reverse of 1234abcd is dcba4321<br>\n",
    "<b>Example 2:</b><br>\n",
    "Input:<br>\n",
    "Python@123<br>\n",
    "Output:<br>\n",
    "321@nohtyP<br>\n",
    "Explanation:<br>\n",
    "Reverse of Python@123 is 321@nohtyP<br>\n"
   ]
  },
  {
   "cell_type": "code",
   "execution_count": 2,
   "metadata": {},
   "outputs": [
    {
     "name": "stdout",
     "output_type": "stream",
     "text": [
      "Reversed string: 321@nohtyP\n"
     ]
    }
   ],
   "source": [
    "def string():\n",
    "    str_input = input(\"Enter a string: \") \n",
    "    rev_str = \"\"  \n",
    "    for i in str_input:\n",
    "        rev_str = i + rev_str  \n",
    "    return rev_str\n",
    "result = string()\n",
    "print(f\"Reversed string: {result}\")"
   ]
  },
  {
   "cell_type": "markdown",
   "metadata": {},
   "source": [
    "<h2 style=\"color:yellow\">Question 3: Finding indices of Closest Temperatures</h2>\n",
    "Imagine you work for a weather station, and you have a list of temperatures recorded <br>\n",
    "throughout the day. Your job is to find which two temperatures in the list are the most similar <br>\n",
    "(closest in value). Once you find the two closest temperatures, you need to tell their positions <br>\n",
    "(indices) in the list.<br>\n",
    "Note: \"Closest\", we mean finding two numbers that have the smallest difference between \n",
    "them.\n",
    "Example 1:<br>\n",
    "Input:\n",
    "[1, 7, 9, 2, 10]<br>\n",
    "Output:\n",
    "[0, 3]<br>\n",
    "Explanation:<br>\n",
    "The output [0, 3] represents the indices of the closest pair of numbers in the list [1, 7, 9, 2, 10]. <br>\n",
    "The numbers at indices 0 and 3 are 1 and 2, which have the smallest difference (1).<br>\n",
    "Example 2:<br>\n",
    "Input:\n",
    "[5, 8, 12, 15, 7]\n",
    "Output:<br>\n",
    "[4, 1]\n",
    "Explanation:<br>\n",
    "The output [4, 1] represents the indices of the closest pair of numbers in the list [5,8,12,15,7]. <br>\n",
    "The numbers at indices 4 and 1 are 7 and 8 which have the smallest difference (1).<br>\n",
    "Example 3:<br>\n",
    "Input:\n",
    "[100, 101, 99, 103, 105]\n",
    "Output:<br>\n",
    "[0, 1]\n",
    "Explanation:<br>\n",
    "The output [0, 1] represents the indices of the closest pair of numbers in the list [100, 101, 99, \n",
    "103, 105].<br> The numbers at indices 0 and 1 are 100 and 101, which have the smallest difference \n",
    "(1)"
   ]
  },
  {
   "cell_type": "code",
   "execution_count": null,
   "metadata": {},
   "outputs": [
    {
     "name": "stdout",
     "output_type": "stream",
     "text": [
      "[0, 3]\n",
      "[1, 4]\n",
      "[0, 1]\n"
     ]
    }
   ],
   "source": [
    "def find_closest_temperatures(temps):\n",
    "    min_diff = float('inf')  \n",
    "    index1, index2 = 0, 1  \n",
    "    for i in range(len(temps)):\n",
    "        for j in range(i + 1, len(temps)):  \n",
    "            diff = abs(temps[i] - temps[j])  \n",
    "            if diff < min_diff:\n",
    "                min_diff = diff\n",
    "                index1, index2 = i, j  \n",
    "    return [index1, index2]  \n",
    "\n",
    "print(find_closest_temperatures([1, 7, 9, 2, 10]))  \n",
    "print(find_closest_temperatures([5, 8, 12, 15, 7]))  \n",
    "print(find_closest_temperatures([100, 101, 99, 103, 105]))  \n"
   ]
  },
  {
   "cell_type": "markdown",
   "metadata": {},
   "source": [
    "<h2 style=\"color:yellow\">Question 4: Strange Sort: Alternating Smallest and Largest</h2><br>\n",
    "In an amusement park ticket queue, visitors are sorted in a strange manner. The smallest <br>\n",
    "number (representing the youngest visitor) stands first, followed by the oldest visitor.<br> The next \n",
    "youngest visitor stands next, followed by the next oldest visitor, and so on. Write a Python <br>\n",
    "program to sort a list of numbers in such a “strange sort,” where the first element is the <br>\n",
    "smallest, the second is the largest, the third is the next smallest, and so on.<br>\n",
    "Example 1:<br>\n",
    "Input:\n",
    "[1, 3, 4, 5, 11]<br>\n",
    "Output:\n",
    "[1, 11, 3, 5, 4]<br>\n",
    "Explanation:<br>\n",
    "The smallest element is 1, then the largest is 11, followed by the next smallest (3), the next \n",
    "largest (5), and the remaining element (4).\n",
    "Example 2:<br>\n",
    "Input:\n",
    "[7, 2, 10, 4, 8]<br>\n",
    "Output:\n",
    "[2, 10, 4, 8, 7]<br>\n",
    "Explanation:<br>\n",
    "The smallest element is 2, then the largest is 10, followed by the next smallest (4), the next \n",
    "largest (8), and the remaining element (7).<br>\n",
    "Example 3:<br>\n",
    "Input:\n",
    "[9, 15, 3, 12, 6, 1]<br>\n",
    "Output:\n",
    "[1, 15, 3, 12, 6, 9]<br>\n",
    "Explanation:<br>\n",
    "The smallest element is 1, then the largest is 15, followed by the next smallest (3), the next \n",
    "largest (12), and so on."
   ]
  },
  {
   "cell_type": "code",
   "execution_count": 4,
   "metadata": {},
   "outputs": [
    {
     "name": "stdout",
     "output_type": "stream",
     "text": [
      "[1, 11, 3, 5, 4]\n",
      "[2, 10, 4, 8, 7]\n",
      "[1, 15, 3, 12, 6, 9]\n"
     ]
    }
   ],
   "source": [
    "def strange_sort(arr):\n",
    "    arr.sort()  \n",
    "    result = []  \n",
    "\n",
    "    left, right = 0, len(arr) - 1  \n",
    "\n",
    "    while left <= right:\n",
    "        if left == right:\n",
    "            result.append(arr[left])  \n",
    "        else:\n",
    "            result.append(arr[left])  \n",
    "            result.append(arr[right])  \n",
    "        left += 1\n",
    "        right -= 1\n",
    "\n",
    "    return result\n",
    "print(strange_sort([1, 3, 4, 5, 11]))  \n",
    "print(strange_sort([7, 2, 10, 4, 8]))  \n",
    "print(strange_sort([9, 15, 3, 12, 6, 1]))  \n"
   ]
  },
  {
   "cell_type": "markdown",
   "metadata": {},
   "source": [
    "<h2 style=\"color:yellow\">Question 5: Check if a String is Pangram</h2>\n",
    "You are designing a chatbot for an e-commerce platform. The chatbot is expected to understand <br>\n",
    "and respond to user queries efficiently. To ensure that it can handle diverse inputs, you need to <br>\n",
    "verify that its internal processing covers all possible alphabetical characters. A pangram is a <br>\n",
    "sentence that contains every letter of the English alphabet at least once.<br>\n",
    "Write a Python function that takes a string as input and checks whether the string is a pangram<br> \n",
    "(contains every letter of the alphabet at least once).<br>\n",
    "Example 1:<br>\n",
    "Input:\n",
    "The quick brown fox jumps over the lazy dog.<br>\n",
    "Output:\n",
    "True<br>\n",
    "Explanation:<br>\n",
    "This is a famous pangram that contains all the letters of the alphabet.<br>\n",
    "Example 2:<br>\n",
    "Input:\n",
    "Pack my box with five dozen liquor jugs.<br>\n",
    "Output:\n",
    "True<br>\n",
    "Explanation:<br>\n",
    "This is a famous pangram that contains all the letters of the alphabet.<br>\n",
    "Example 3:<br>\n",
    "Input:\n",
    "I love programming in Python<br>\n",
    "Output:\n",
    "False<br>\n",
    "Explanation:<br>\n",
    "This string is missing several letters, such as ‘z’, ‘j’, and ‘k’, so it is not a pangram."
   ]
  },
  {
   "cell_type": "code",
   "execution_count": 5,
   "metadata": {},
   "outputs": [
    {
     "name": "stdout",
     "output_type": "stream",
     "text": [
      "True\n",
      "True\n",
      "False\n"
     ]
    }
   ],
   "source": [
    "import string\n",
    "\n",
    "def is_pangram(s):\n",
    "    s = s.lower()  \n",
    "    for letter in string.ascii_lowercase:  \n",
    "        if letter not in s:\n",
    "            return False\n",
    "    return True  \n",
    "print(is_pangram(\"The quick brown fox jumps over the lazy dog.\"))  \n",
    "print(is_pangram(\"Pack my box with five dozen liquor jugs.\"))  \n",
    "print(is_pangram(\"I love programming in Python\"))  \n"
   ]
  }
 ],
 "metadata": {
  "kernelspec": {
   "display_name": "Python 3",
   "language": "python",
   "name": "python3"
  },
  "language_info": {
   "codemirror_mode": {
    "name": "ipython",
    "version": 3
   },
   "file_extension": ".py",
   "mimetype": "text/x-python",
   "name": "python",
   "nbconvert_exporter": "python",
   "pygments_lexer": "ipython3",
   "version": "3.12.8"
  }
 },
 "nbformat": 4,
 "nbformat_minor": 2
}
